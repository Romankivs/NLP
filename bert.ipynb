{
 "cells": [
  {
   "cell_type": "code",
   "execution_count": null,
   "id": "d147c82b",
   "metadata": {},
   "outputs": [],
   "source": [
    "import pandas as pd\n",
    "from sklearn.model_selection import train_test_split\n",
    "\n",
    "data = pd.read_csv('tripadvisor_hotel_reviews.csv')\n",
    "\n",
    "def assign_sentiment_by_rating(rating):\n",
    "    if rating >= 4:\n",
    "        return 'Positive'\n",
    "    elif rating == 3:\n",
    "        return 'Neutral'\n",
    "    else:\n",
    "        return 'Negative'\n",
    "\n",
    "data['True_Sentiment'] = data['Rating'].apply(assign_sentiment_by_rating)\n",
    "\n",
    "from sklearn.preprocessing import LabelEncoder\n",
    "\n",
    "label_encoder = LabelEncoder()\n",
    "y = label_encoder.fit_transform(data['True_Sentiment'])\n",
    "\n",
    "X_train, X_test, y_train, y_test = train_test_split(data['Review'], y, test_size=0.2, random_state=42)\n",
    "\n",
    "import tensorflow as tf\n",
    "from transformers import DistilBertTokenizer, TFDistilBertForSequenceClassification\n",
    "\n",
    "tokenizer = DistilBertTokenizer.from_pretrained('distilbert-base-uncased')\n",
    "\n",
    "train_encodings = tokenizer(list(X_train), truncation=True, padding=True, return_tensors='tf')\n",
    "test_encodings = tokenizer(list(X_test), truncation=True, padding=True, return_tensors='tf')\n"
   ]
  },
  {
   "cell_type": "code",
   "execution_count": 6,
   "id": "95275271",
   "metadata": {},
   "outputs": [],
   "source": [
    "train_labels = tf.convert_to_tensor(y_train)\n",
    "test_labels = tf.convert_to_tensor(y_test)"
   ]
  },
  {
   "cell_type": "code",
   "execution_count": 7,
   "id": "eeda4a4d",
   "metadata": {},
   "outputs": [
    {
     "name": "stderr",
     "output_type": "stream",
     "text": [
      "Some weights of the PyTorch model were not used when initializing the TF 2.0 model TFDistilBertForSequenceClassification: ['vocab_transform.bias', 'vocab_layer_norm.bias', 'vocab_layer_norm.weight', 'vocab_transform.weight', 'vocab_projector.bias']\n",
      "- This IS expected if you are initializing TFDistilBertForSequenceClassification from a PyTorch model trained on another task or with another architecture (e.g. initializing a TFBertForSequenceClassification model from a BertForPreTraining model).\n",
      "- This IS NOT expected if you are initializing TFDistilBertForSequenceClassification from a PyTorch model that you expect to be exactly identical (e.g. initializing a TFBertForSequenceClassification model from a BertForSequenceClassification model).\n",
      "Some weights or buffers of the TF 2.0 model TFDistilBertForSequenceClassification were not initialized from the PyTorch model and are newly initialized: ['pre_classifier.weight', 'pre_classifier.bias', 'classifier.weight', 'classifier.bias']\n",
      "You should probably TRAIN this model on a down-stream task to be able to use it for predictions and inference.\n"
     ]
    }
   ],
   "source": [
    "model = TFDistilBertForSequenceClassification.from_pretrained('distilbert-base-uncased', num_labels=len(label_encoder.classes_))\n",
    "\n",
    "model.compile(optimizer=tf.keras.optimizers.legacy.Adam(learning_rate=2e-5),\n",
    "              loss=tf.keras.losses.SparseCategoricalCrossentropy(from_logits=True),\n",
    "              metrics=['accuracy'])"
   ]
  },
  {
   "cell_type": "code",
   "execution_count": 8,
   "id": "071872f2",
   "metadata": {},
   "outputs": [
    {
     "name": "stdout",
     "output_type": "stream",
     "text": [
      "922/922 [==============================] - 30871s 34s/step - loss: 0.3865 - accuracy: 0.8556 - val_loss: 0.2942 - val_accuracy: 0.8805\n"
     ]
    },
    {
     "data": {
      "text/plain": [
       "<tf_keras.src.callbacks.History at 0x15808b690>"
      ]
     },
     "execution_count": 8,
     "metadata": {},
     "output_type": "execute_result"
    }
   ],
   "source": [
    "model.fit(train_encodings.data, train_labels, epochs=1, batch_size=16, validation_split=0.1)"
   ]
  },
  {
   "cell_type": "code",
   "execution_count": 9,
   "id": "50e1cbc1",
   "metadata": {},
   "outputs": [
    {
     "data": {
      "text/plain": [
       "('saved_model/distilbert-sentiment/tokenizer_config.json',\n",
       " 'saved_model/distilbert-sentiment/special_tokens_map.json',\n",
       " 'saved_model/distilbert-sentiment/vocab.txt',\n",
       " 'saved_model/distilbert-sentiment/added_tokens.json')"
      ]
     },
     "execution_count": 9,
     "metadata": {},
     "output_type": "execute_result"
    }
   ],
   "source": [
    "model.save_pretrained(\"saved_model/distilbert-sentiment\")\n",
    "tokenizer.save_pretrained(\"saved_model/distilbert-sentiment\")"
   ]
  },
  {
   "cell_type": "code",
   "execution_count": null,
   "id": "00bc96b2",
   "metadata": {},
   "outputs": [
    {
     "name": "stdout",
     "output_type": "stream",
     "text": [
      "129/129 [==============================] - 999s 8s/step\n",
      "\n",
      "=== Sample Predictions (First 25) ===\n",
      "                                               Review True Sentiment  \\\n",
      "0   not recommend hotel did reviewers actually sta...       Negative   \n",
      "1   barcelona rocks, stayed hotel jazz girlfriend ...       Positive   \n",
      "2   ok hotel good location stayed night way beijin...        Neutral   \n",
      "3   great service nice pool ok beach lovely ground...       Positive   \n",
      "4   surprising treat spent weekend july 15/16 2006...       Positive   \n",
      "5   fantastic stay affinia 50 stayed affinia 50 de...       Positive   \n",
      "6   great choice, stayed argonaut 7th 10th sepembe...       Positive   \n",
      "7   treat good room glimpse bridge, thought room, ...       Positive   \n",
      "8   par price stayed marco polo hotel 1 night nove...       Negative   \n",
      "9   great value money tegal sari lovely hotel, wif...       Positive   \n",
      "10  great hotel perfect central location just came...       Positive   \n",
      "11  beautiful just returned 5 night stay beach hot...       Positive   \n",
      "12  hope come chose hotel based location reviews t...       Positive   \n",
      "13  awesome hotel stayed luanna week 1 6. visit oa...       Positive   \n",
      "14  great location friendly staff, friend just got...       Positive   \n",
      "15  loved mandarin oriental singapore writing info...       Positive   \n",
      "16  excellent fronts wife stayed night february 20...       Positive   \n",
      "17  normandie charming, booked normandie december ...       Positive   \n",
      "18  beautiful hotel quiet good location safe got b...       Positive   \n",
      "19  mature opulence original seasons hotel singapo...       Positive   \n",
      "20  great staff makes hotel step reading reviews b...       Positive   \n",
      "21  great location easy centraal station 5 minute ...       Positive   \n",
      "22  overpriced not trendy research thought hip tre...       Negative   \n",
      "23  affordable great location guest hotel times ye...       Positive   \n",
      "24  great hotel, friendly attentive clean greatest...       Positive   \n",
      "\n",
      "   Predicted Sentiment  \n",
      "0             Negative  \n",
      "1             Positive  \n",
      "2              Neutral  \n",
      "3             Positive  \n",
      "4             Positive  \n",
      "5             Positive  \n",
      "6             Positive  \n",
      "7             Positive  \n",
      "8             Negative  \n",
      "9             Positive  \n",
      "10            Positive  \n",
      "11            Positive  \n",
      "12            Positive  \n",
      "13            Positive  \n",
      "14            Positive  \n",
      "15            Positive  \n",
      "16            Positive  \n",
      "17            Positive  \n",
      "18            Positive  \n",
      "19            Positive  \n",
      "20            Positive  \n",
      "21            Positive  \n",
      "22             Neutral  \n",
      "23            Positive  \n",
      "24            Positive  \n"
     ]
    }
   ],
   "source": [
    "preds = model.predict({\n",
    "    'input_ids': test_encodings['input_ids'],\n",
    "    'attention_mask': test_encodings['attention_mask']\n",
    "}).logits\n",
    "\n",
    "y_pred = tf.argmax(preds, axis=1).numpy()\n",
    "\n",
    "results_df = pd.DataFrame({\n",
    "    'Review': X_test.values,\n",
    "    'True Sentiment': label_encoder.inverse_transform(y_test),\n",
    "    'Predicted Sentiment': label_encoder.inverse_transform(y_pred)\n",
    "})\n",
    "\n",
    "print(\"\\n=== Sample Predictions (First 25) ===\")\n",
    "print(results_df.head(25))"
   ]
  },
  {
   "cell_type": "code",
   "execution_count": null,
   "id": "48a21f97",
   "metadata": {},
   "outputs": [
    {
     "name": "stdout",
     "output_type": "stream",
     "text": [
      "=== Classification Report ===\n",
      "              precision    recall  f1-score   support\n",
      "\n",
      "    Negative       0.81      0.86      0.83       625\n",
      "     Neutral       0.56      0.31      0.40       432\n",
      "    Positive       0.93      0.97      0.95      3042\n",
      "\n",
      "    accuracy                           0.89      4099\n",
      "   macro avg       0.76      0.72      0.73      4099\n",
      "weighted avg       0.87      0.89      0.87      4099\n",
      "\n"
     ]
    },
    {
     "data": {
      "image/png": "[encoded data removed]",
      "text/plain": [
       "<Figure size 600x500 with 2 Axes>"
      ]
     },
     "metadata": {},
     "output_type": "display_data"
    }
   ],
   "source": [
    "from sklearn.metrics import classification_report, confusion_matrix\n",
    "import seaborn as sns\n",
    "import matplotlib.pyplot as plt\n",
    "\n",
    "print(\"=== Classification Report ===\")\n",
    "print(classification_report(y_test, y_pred, target_names=label_encoder.classes_))\n",
    "\n",
    "cm = confusion_matrix(y_test, y_pred)\n",
    "\n",
    "plt.figure(figsize=(6, 5))\n",
    "sns.heatmap(cm, annot=True, fmt='d', cmap='Blues',\n",
    "            xticklabels=label_encoder.classes_,\n",
    "            yticklabels=label_encoder.classes_)\n",
    "plt.xlabel('Predicted Label')\n",
    "plt.ylabel('True Label')\n",
    "plt.title('Confusion Matrix')\n",
    "plt.tight_layout()\n",
    "plt.show()"
   ]
  }
 ],
 "metadata": {
  "kernelspec": {
   "display_name": ".venv",
   "language": "python",
   "name": "python3"
  },
  "language_info": {
   "codemirror_mode": {
    "name": "ipython",
    "version": 3
   },
   "file_extension": ".py",
   "mimetype": "text/x-python",
   "name": "python",
   "nbconvert_exporter": "python",
   "pygments_lexer": "ipython3",
   "version": "3.11.11"
  }
 },
 "nbformat": 4,
 "nbformat_minor": 5
}
